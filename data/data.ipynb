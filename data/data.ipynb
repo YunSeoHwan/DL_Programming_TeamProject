{
 "cells": [
  {
   "cell_type": "code",
   "execution_count": 27,
   "metadata": {},
   "outputs": [],
   "source": [
    "import torch\n",
    "import torch.nn as nn\n",
    "import torch.optim as optim\n",
    "from torch.utils.data import DataLoader\n",
    "\n",
    "import torchvision.transforms as tr \n",
    "\n",
    "from dataset import make_dataset, collate_fn"
   ]
  },
  {
   "cell_type": "code",
   "execution_count": 40,
   "metadata": {},
   "outputs": [
    {
     "name": "stdout",
     "output_type": "stream",
     "text": [
      "torch.Size([4, 3, 512, 512])\n",
      "(tensor([4]), tensor([4]), tensor([4]), tensor([4]))\n",
      "(tensor([[ 200.9026,    0.0000, 1158.6770,  960.9201]]), tensor([[ 266.9031,  348.4540, 1536.1183,  878.4917]]), tensor([[ 897.0312,    0.0000, 1280.0000,  720.0000]]), tensor([[ 348.3173,  163.5216, 1481.7118,  965.0387]]))\n"
     ]
    }
   ],
   "source": [
    "import sys\n",
    "import os\n",
    "\n",
    "sys.path.append(os.path.abspath('..'))\n",
    "\n",
    "from data.dataset import make_dataset, collate_fn\n",
    "from torch.utils.data import DataLoader\n",
    "\n",
    "# 설정 변수\n",
    "batch_size = 4\n",
    "size = 512\n",
    "\n",
    "image_dir_train = 'train/images/'\n",
    "bbox_dir_train = 'train/bbox/'\n",
    "\n",
    "image_dir_val = 'validation/images/'\n",
    "bbox_dir_val = 'validation/bbox/'\n",
    "\n",
    "image_dir_test = 'test/images/'\n",
    "bbox_dir_test = 'test/bbox/'\n",
    "\n",
    "\n",
    "# 데이터셋 생성\n",
    "train_set = make_dataset(\n",
    "    image_dir=image_dir_train,\n",
    "    bbox_dir=bbox_dir_train\n",
    ")\n",
    "\n",
    "val_set = make_dataset(\n",
    "    image_dir=image_dir_val,\n",
    "    bbox_dir=bbox_dir_val\n",
    ")\n",
    "\n",
    "test_set = make_dataset(\n",
    "    image_dir=image_dir_test,\n",
    "    bbox_dir=bbox_dir_test\n",
    ")\n",
    "\n",
    "# DataLoader 생성\n",
    "train_loader = DataLoader(\n",
    "    train_set, \n",
    "    batch_size=batch_size,\n",
    "    shuffle=True,\n",
    "    pin_memory=True,\n",
    "    collate_fn=collate_fn,\n",
    "    num_workers=0\n",
    ")\n",
    "\n",
    "val_loader = DataLoader(\n",
    "    val_set, \n",
    "    batch_size=batch_size,\n",
    "    shuffle=False,\n",
    "    pin_memory=True,\n",
    "    collate_fn=collate_fn,\n",
    "    num_workers=0\n",
    ")\n",
    "\n",
    "test_loader = DataLoader(\n",
    "    test_set, \n",
    "    batch_size=batch_size,\n",
    "    shuffle=True,\n",
    "    collate_fn=collate_fn\n",
    ")\n",
    "\n",
    "# 데이터 로드 및 출력\n",
    "images, labels, bbox = next(iter(val_loader))\n",
    "\n",
    "print(images.shape)\n",
    "print(labels)\n",
    "print(bbox)"
   ]
  },
  {
   "cell_type": "code",
   "execution_count": null,
   "metadata": {},
   "outputs": [],
   "source": []
  }
 ],
 "metadata": {
  "kernelspec": {
   "display_name": "deeplearning",
   "language": "python",
   "name": "python3"
  },
  "language_info": {
   "codemirror_mode": {
    "name": "ipython",
    "version": 3
   },
   "file_extension": ".py",
   "mimetype": "text/x-python",
   "name": "python",
   "nbconvert_exporter": "python",
   "pygments_lexer": "ipython3",
   "version": "3.12.2"
  }
 },
 "nbformat": 4,
 "nbformat_minor": 2
}
