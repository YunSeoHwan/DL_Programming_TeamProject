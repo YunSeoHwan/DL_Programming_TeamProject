{
 "cells": [
  {
   "cell_type": "code",
   "execution_count": 9,
   "metadata": {},
   "outputs": [
    {
     "ename": "ImportError",
     "evalue": "cannot import name 'create_dataloader' from 'dataset' (c:\\Users\\dhshs\\Documents\\해양 침적 쓰레기 이미지\\dataset.py)",
     "output_type": "error",
     "traceback": [
      "\u001b[1;31m---------------------------------------------------------------------------\u001b[0m",
      "\u001b[1;31mImportError\u001b[0m                               Traceback (most recent call last)",
      "Cell \u001b[1;32mIn[9], line 8\u001b[0m\n\u001b[0;32m      6\u001b[0m \u001b[38;5;28;01mfrom\u001b[39;00m \u001b[38;5;21;01mdata_loader\u001b[39;00m \u001b[38;5;28;01mimport\u001b[39;00m load_dataset_paths\n\u001b[0;32m      7\u001b[0m \u001b[38;5;28;01mfrom\u001b[39;00m \u001b[38;5;21;01mpreprocess\u001b[39;00m \u001b[38;5;28;01mimport\u001b[39;00m preprocess_labels\n\u001b[1;32m----> 8\u001b[0m \u001b[38;5;28;01mfrom\u001b[39;00m \u001b[38;5;21;01mdataset\u001b[39;00m \u001b[38;5;28;01mimport\u001b[39;00m create_dataloader\n\u001b[0;32m      9\u001b[0m \u001b[38;5;28;01mfrom\u001b[39;00m \u001b[38;5;21;01mmodel\u001b[39;00m \u001b[38;5;28;01mimport\u001b[39;00m create_model\n\u001b[0;32m     11\u001b[0m \u001b[38;5;66;03m# 경로 설정\u001b[39;00m\n",
      "\u001b[1;31mImportError\u001b[0m: cannot import name 'create_dataloader' from 'dataset' (c:\\Users\\dhshs\\Documents\\해양 침적 쓰레기 이미지\\dataset.py)"
     ]
    }
   ],
   "source": [
    "# main.py\n",
    "\n",
    "import torch\n",
    "import torch.optim as optim\n",
    "import torch.nn as nn\n",
    "from data_loader import load_dataset_paths\n",
    "from preprocess import preprocess_labels\n",
    "from dataset import create_dataloader\n",
    "from model import create_model\n",
    "\n",
    "# 경로 설정\n",
    "path_to_training_images = r'C:\\Users\\dhshs\\Documents\\해양 침적 쓰레기 이미지\\Training\\[Training 원천]underwater photo'\n",
    "path_to_training_annotations = r'C:\\Users\\dhshs\\Documents\\해양 침적 쓰레기 이미지\\Training\\[Training 라벨링]underwater photo'\n",
    "path_to_validation_images = r'C:\\Users\\dhshs\\Documents\\해양 침적 쓰레기 이미지\\Validation\\[Val 원천]underwater photo'\n",
    "path_to_validation_annotations = r'C:\\Users\\dhshs\\Documents\\해양 침적 쓰레기 이미지\\Validation\\[Val 라벨링]underwater photo'\n",
    "\n",
    "# 데이터 경로 및 라벨 로드\n",
    "train_image_paths, train_labels = load_dataset_paths(path_to_training_images, path_to_training_annotations)\n",
    "val_image_paths, val_labels = load_dataset_paths(path_to_validation_images, path_to_validation_annotations)\n",
    "\n",
    "# 이미지 형식 설정 (여기서는 256x256 크기와 3 채널)\n",
    "image_shape = (256, 256, 3)\n",
    "\n",
    "# 데이터 전처리\n",
    "train_labels = preprocess_labels(train_labels, image_shape)\n",
    "val_labels = preprocess_labels(val_labels, image_shape)\n",
    "\n",
    "# 데이터셋 준비\n",
    "train_loader = create_dataloader(train_image_paths, train_labels, image_shape)\n",
    "val_loader = create_dataloader(val_image_paths, val_labels, image_shape)\n",
    "\n",
    "# 모델 정의\n",
    "model = create_model(image_shape).cuda()\n",
    "\n",
    "# 손실 함수 및 옵티마이저 정의\n",
    "criterion = nn.MSELoss()\n",
    "optimizer = optim.Adam(model.parameters(), lr=0.001)\n",
    "\n",
    "# 모델 학습\n",
    "epochs = 10\n",
    "for epoch in range(epochs):\n",
    "    model.train()\n",
    "    running_loss = 0.0\n",
    "    for images, labels in train_loader:\n",
    "        images, labels = images.cuda(), labels.cuda()\n",
    "\n",
    "        optimizer.zero_grad()\n",
    "        outputs = model(images)\n",
    "        loss = criterion(outputs, labels)\n",
    "        loss.backward()\n",
    "        optimizer.step()\n",
    "\n",
    "        running_loss += loss.item()\n",
    "    print(f'Epoch {epoch+1}/{epochs}, Loss: {running_loss/len(train_loader)}')\n",
    "\n",
    "# 모델 평가 (간단히 학습 과정만 포함)\n",
    "model.eval()\n",
    "with torch.no_grad():\n",
    "    val_loss = 0.0\n",
    "    for images, labels in val_loader:\n",
    "        images, labels = images.cuda(), labels.cuda()\n",
    "        outputs = model(images)\n",
    "        loss = criterion(outputs, labels)\n",
    "        val_loss += loss.item()\n",
    "    print(f'Validation Loss: {val_loss/len(val_loader)}')\n"
   ]
  },
  {
   "cell_type": "code",
   "execution_count": null,
   "metadata": {},
   "outputs": [],
   "source": []
  }
 ],
 "metadata": {
  "kernelspec": {
   "display_name": "Python 3",
   "language": "python",
   "name": "python3"
  },
  "language_info": {
   "codemirror_mode": {
    "name": "ipython",
    "version": 3
   },
   "file_extension": ".py",
   "mimetype": "text/x-python",
   "name": "python",
   "nbconvert_exporter": "python",
   "pygments_lexer": "ipython3",
   "version": "3.11.7"
  }
 },
 "nbformat": 4,
 "nbformat_minor": 2
}
